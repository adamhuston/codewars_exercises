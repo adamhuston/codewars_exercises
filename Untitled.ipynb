{
 "cells": [
  {
   "cell_type": "code",
   "execution_count": 4,
   "id": "a3af5faf-ba00-4b5b-8e3f-fbdf0c794d8e",
   "metadata": {},
   "outputs": [
    {
     "name": "stdin",
     "output_type": "stream",
     "text": [
      "Gimme that grade fool:  100\n"
     ]
    },
    {
     "name": "stdout",
     "output_type": "stream",
     "text": [
      "Your grade is 100.0. You have an A!\n"
     ]
    }
   ],
   "source": [
    "# Adam Huston\n",
    "''' Demonstrate how an if... elif... elif... else statement works '''\n",
    "\n",
    "# ask the user to enter a grade as a number\n",
    "\n",
    "grade = float(input(\"Gimme that grade fool: \"))\n",
    "\n",
    "# report on the letter grade\n",
    "\n",
    "if grade >= 90:\n",
    "    print(f\"Your grade is {grade}. You have an A!\")\n",
    "elif grade >= 80:\n",
    "    print(f\"Your grade is {grade}. You have a B!\")\n",
    "elif grade >= 70:\n",
    "    print(f\"Your grade is {grade}. You have a C!\")\n",
    "elif grade >= 60:\n",
    "    print(f\"Your grade is {grade}. You have a D!\")\n",
    "else:\n",
    "    print(f\"Your grade is {grade}. You have an F!\")"
   ]
  },
  {
   "cell_type": "code",
   "execution_count": null,
   "id": "774426ff-8214-4c7e-9944-36bb62a9ec12",
   "metadata": {},
   "outputs": [],
   "source": []
  }
 ],
 "metadata": {
  "kernelspec": {
   "display_name": "Python 3 (ipykernel)",
   "language": "python",
   "name": "python3"
  },
  "language_info": {
   "codemirror_mode": {
    "name": "ipython",
    "version": 3
   },
   "file_extension": ".py",
   "mimetype": "text/x-python",
   "name": "python",
   "nbconvert_exporter": "python",
   "pygments_lexer": "ipython3",
   "version": "3.13.0"
  }
 },
 "nbformat": 4,
 "nbformat_minor": 5
}
